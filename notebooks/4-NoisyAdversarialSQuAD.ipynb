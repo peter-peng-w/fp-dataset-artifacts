{
 "cells": [
  {
   "cell_type": "code",
   "execution_count": 1,
   "metadata": {},
   "outputs": [],
   "source": [
    "import json\n",
    "import os, sys\n",
    "import random\n",
    "import nltk\n",
    "from nltk.tokenize import sent_tokenize, word_tokenize"
   ]
  },
  {
   "cell_type": "markdown",
   "metadata": {},
   "source": [
    "### SQuAD Training Set and Adversarial SQuAD Dataset"
   ]
  },
  {
   "cell_type": "code",
   "execution_count": 2,
   "metadata": {},
   "outputs": [],
   "source": [
    "data_train_path = os.path.join(os.getcwd(), '../data/squad_1.1/train-v1.1.json')               # Original SQuAD training data\n",
    "data_adv_train_path = os.path.join(os.getcwd(), '../data/squad_adv/train-convHighConf.json')   # Adversarial SQuAD training data\n",
    "# Load data\n",
    "data_train = json.load(open(data_train_path))\n",
    "data_adv_train = json.load(open(data_adv_train_path))"
   ]
  },
  {
   "cell_type": "code",
   "execution_count": 3,
   "metadata": {},
   "outputs": [
    {
     "name": "stdout",
     "output_type": "stream",
     "text": [
      "Train Data:  87599\n",
      "Dev Data:  157407\n"
     ]
    }
   ],
   "source": [
    "ids_train, titles_train, contexts_train, questions_train, answers_train = [], [], [], [], []\n",
    "ids_adv_train, titles_adv_train, contexts_adv_train, questions_adv_train, answers_adv_train = [], [], [], [], []\n",
    "\n",
    "# Load Train Data on SQuAD 1.1\n",
    "for article in data_train[\"data\"]:\n",
    "    title = article.get(\"title\", \"\")\n",
    "    for paragraph in article[\"paragraphs\"]:\n",
    "        context = paragraph[\"context\"]  # do not strip leading blank spaces GH-2585\n",
    "        for qa in paragraph[\"qas\"]:\n",
    "            answer_starts = [answer[\"answer_start\"] for answer in qa[\"answers\"]]\n",
    "            answer_texts = [answer[\"text\"] for answer in qa[\"answers\"]]\n",
    "            ids_train.append(qa[\"id\"])\n",
    "            titles_train.append(title)\n",
    "            contexts_train.append(context)\n",
    "            questions_train.append(qa[\"question\"])\n",
    "            answers_train.append({\n",
    "                \"answer_start\": answer_starts,\n",
    "                \"text\": answer_texts\n",
    "            })\n",
    "# Load Train Data on Adversarial-SQuAD\n",
    "for article in data_adv_train[\"data\"]:\n",
    "    title = article.get(\"title\", \"\")\n",
    "    for paragraph in article[\"paragraphs\"]:\n",
    "        context = paragraph[\"context\"]  # do not strip leading blank spaces GH-2585\n",
    "        for qa in paragraph[\"qas\"]:\n",
    "            answer_starts = [answer[\"answer_start\"] for answer in qa[\"answers\"]]\n",
    "            answer_texts = [answer[\"text\"] for answer in qa[\"answers\"]]\n",
    "            ids_adv_train.append(qa[\"id\"])\n",
    "            titles_adv_train.append(title)\n",
    "            contexts_adv_train.append(context)\n",
    "            questions_adv_train.append(qa[\"question\"])\n",
    "            answers_adv_train.append({\n",
    "                \"answer_start\": answer_starts,\n",
    "                \"text\": answer_texts\n",
    "            })\n",
    "print(\"Train Data: \", len(ids_train))\n",
    "print(\"Dev Data: \", len(ids_adv_train))"
   ]
  },
  {
   "cell_type": "code",
   "execution_count": 9,
   "metadata": {},
   "outputs": [],
   "source": [
    "ids_adv_train_noisy = []\n",
    "titles_adv_train_noisy = []\n",
    "contexts_adv_train_noisy = []\n",
    "questions_adv_train_noisy = []\n",
    "answers_adv_train_noisy = []\n",
    "cnt_clean_SQuAD = 0         # Number of clean SQuAD data in Adversarial-SQuAD, should be 87599\n",
    "cnt_noisy_SQuAD = 0         # Number of noisy data in Adversarial-SQuAD\n",
    "cnt_adv_SQuAD = 0           # Number of adversarial data in Adversarial-SQuAD that we didn't change\n",
    "for i in range(len(ids_adv_train)):\n",
    "    if len(ids_adv_train[i]) == 24:\n",
    "        # This is the clean data\n",
    "        ids_adv_train_noisy.append(ids_adv_train[i])\n",
    "        titles_adv_train_noisy.append(titles_adv_train[i])\n",
    "        contexts_adv_train_noisy.append(contexts_adv_train[i])\n",
    "        questions_adv_train_noisy.append(questions_adv_train[i])\n",
    "        answers_adv_train_noisy.append(answers_adv_train[i])\n",
    "        cnt_clean_SQuAD += 1\n",
    "    else:\n",
    "        contexts_sents = sent_tokenize(contexts_adv_train[i])\n",
    "        adv_sentence_index = random.randint(0, len(contexts_sents)-1)       # randomly select a position to insert the adversarial sentence\n",
    "        contexts_sents_new = []\n",
    "        for sent_i in range(0, adv_sentence_index):\n",
    "            contexts_sents_new.append(contexts_sents[sent_i])\n",
    "        contexts_sents_new.append(contexts_sents[-1])\n",
    "        for sent_i in range(adv_sentence_index, len(contexts_sents)-1):\n",
    "            contexts_sents_new.append(contexts_sents[sent_i])\n",
    "        contexts_new = ' '.join(contexts_sents_new)\n",
    "        \n",
    "        answer_new = {'answer_start': [], 'text': []}\n",
    "        \n",
    "        flag = False\n",
    "        for answer_text in answers_adv_train[i]['text']:\n",
    "            answer_new['text'].append(answer_text)\n",
    "            try:\n",
    "                answer_new['answer_start'].append(contexts_new.index(answer_text))\n",
    "            except:\n",
    "                # print(\"Error: answer_text not found in contexts_new\")\n",
    "                # print(\"At line: \", i)\n",
    "                # print(\"Original Contexts: \", contexts_adv_train[i])\n",
    "                # print(\"Original Contexts Sentences: \", contexts_sents)\n",
    "                # print(\"New Contexts Sentences: \", contexts_sents_new)\n",
    "                # print(\"New Contexts: \", contexts_new)\n",
    "                # print(answer_text)\n",
    "                # print(questions_adv_train[i])\n",
    "                # print(answers_adv_train[i])\n",
    "                flag = True\n",
    "                break\n",
    "        if flag:\n",
    "            # break\n",
    "            ids_adv_train_noisy.append(ids_adv_train[i])\n",
    "            titles_adv_train_noisy.append(titles_adv_train[i])\n",
    "            contexts_adv_train_noisy.append(contexts_adv_train[i])\n",
    "            questions_adv_train_noisy.append(questions_adv_train[i])\n",
    "            answers_adv_train_noisy.append(answers_adv_train[i])\n",
    "            cnt_adv_SQuAD += 1\n",
    "        else:\n",
    "            if len(answer_new['answer_start']) == 0:\n",
    "                print(\"Error: answer_start is empty\")\n",
    "            elif answer_new['answer_start'][0] == -1:\n",
    "                print(\"Error: answer_start is -1\")\n",
    "            else:\n",
    "                ids_adv_train_noisy.append(ids_adv_train[i])\n",
    "                titles_adv_train_noisy.append(titles_adv_train[i])\n",
    "                contexts_adv_train_noisy.append(contexts_new)\n",
    "                questions_adv_train_noisy.append(questions_adv_train[i])\n",
    "                answers_adv_train_noisy.append(answer_new)\n",
    "                cnt_noisy_SQuAD += 1\n",
    "        "
   ]
  },
  {
   "cell_type": "code",
   "execution_count": 10,
   "metadata": {},
   "outputs": [
    {
     "data": {
      "text/plain": [
       "87599"
      ]
     },
     "execution_count": 10,
     "metadata": {},
     "output_type": "execute_result"
    }
   ],
   "source": [
    "cnt_clean_SQuAD"
   ]
  },
  {
   "cell_type": "code",
   "execution_count": 11,
   "metadata": {},
   "outputs": [
    {
     "data": {
      "text/plain": [
       "69784"
      ]
     },
     "execution_count": 11,
     "metadata": {},
     "output_type": "execute_result"
    }
   ],
   "source": [
    "cnt_noisy_SQuAD"
   ]
  },
  {
   "cell_type": "code",
   "execution_count": 12,
   "metadata": {},
   "outputs": [
    {
     "data": {
      "text/plain": [
       "24"
      ]
     },
     "execution_count": 12,
     "metadata": {},
     "output_type": "execute_result"
    }
   ],
   "source": [
    "cnt_adv_SQuAD"
   ]
  },
  {
   "cell_type": "code",
   "execution_count": 13,
   "metadata": {},
   "outputs": [
    {
     "data": {
      "text/plain": [
       "157407"
      ]
     },
     "execution_count": 13,
     "metadata": {},
     "output_type": "execute_result"
    }
   ],
   "source": [
    "cnt_clean_SQuAD + cnt_noisy_SQuAD + cnt_adv_SQuAD"
   ]
  },
  {
   "cell_type": "code",
   "execution_count": 18,
   "metadata": {},
   "outputs": [],
   "source": [
    "### Write the Adversarial-SQuAD (only adversarial data) training data to file\n",
    "with open('../data/squad_adv/train-convHighConf-onlyadv.jsonl', 'w') as outfile:\n",
    "    for i in range(len(ids_adv_train)):\n",
    "        if len(ids_adv_train[i]) != 24:\n",
    "            json.dump({\"id\": ids_adv_train[i],\n",
    "                    \"title\": titles_adv_train[i],\n",
    "                    \"context\": contexts_adv_train[i],\n",
    "                    \"question\": questions_adv_train[i],\n",
    "                    \"answers\": answers_adv_train[i]}, outfile)\n",
    "            outfile.write('\\n')"
   ]
  },
  {
   "cell_type": "code",
   "execution_count": 17,
   "metadata": {},
   "outputs": [],
   "source": [
    "### Write the new Adversarial-SQuAD training data to file\n",
    "with open('../data/squad_adv/train-convHighConf-noisy.jsonl', 'w') as outfile:\n",
    "    for i in range(len(ids_adv_train_noisy)):\n",
    "        if len(ids_adv_train_noisy[i]) != 24:\n",
    "            json.dump({\"id\": ids_adv_train_noisy[i],\n",
    "                    \"title\": titles_adv_train_noisy[i],\n",
    "                    \"context\": contexts_adv_train_noisy[i],\n",
    "                    \"question\": questions_adv_train_noisy[i],\n",
    "                    \"answers\": answers_adv_train_noisy[i]}, outfile)\n",
    "            outfile.write('\\n')"
   ]
  },
  {
   "cell_type": "code",
   "execution_count": 9,
   "metadata": {},
   "outputs": [
    {
     "name": "stdout",
     "output_type": "stream",
     "text": [
      "id: 5733be284776f41900661182\n",
      "title: University_of_Notre_Dame\n",
      "context: Architecturally, the school has a Catholic character. Atop the Main Building's gold dome is a golden statue of the Virgin Mary. Immediately in front of the Main Building and facing it, is a copper statue of Christ with arms upraised with the legend \"Venite Ad Me Omnes\". Next to the Main Building is the Basilica of the Sacred Heart. Immediately behind the basilica is the Grotto, a Marian place of prayer and reflection. It is a replica of the grotto at Lourdes, France where the Virgin Mary reputedly appeared to Saint Bernadette Soubirous in 1858. At the end of the main drive (and in a direct line that connects through 3 statues and the Gold Dome), is a simple, modern stone statue of Mary.\n",
      "question: To whom did the Virgin Mary allegedly appear in 1858 in Lourdes France?\n",
      "answer: {'answer_start': [515], 'text': ['Saint Bernadette Soubirous']}\n"
     ]
    }
   ],
   "source": [
    "id = 0\n",
    "print(\"id: {}\\ntitle: {}\\ncontext: {}\\nquestion: {}\\nanswer: {}\".format(ids_adv_train[id],\n",
    "                                                                        titles_adv_train[id],\n",
    "                                                                        contexts_adv_train[id],\n",
    "                                                                        questions_adv_train[id],\n",
    "                                                                        answers_adv_train[id]))"
   ]
  },
  {
   "cell_type": "code",
   "execution_count": 8,
   "metadata": {},
   "outputs": [
    {
     "name": "stdout",
     "output_type": "stream",
     "text": [
      "id: 5733be284776f41900661182-high-conf\n",
      "title: University_of_Notre_Dame\n",
      "context: Architecturally, the school has a Catholic character. Atop the Main Building's gold dome is a golden statue of the Virgin Mary. Immediately in front of the Main Building and facing it, is a copper statue of Christ with arms upraised with the legend \"Venite Ad Me Omnes\". Next to the Main Building is the Basilica of the Sacred Heart. Immediately behind the basilica is the Grotto, a Marian place of prayer and reflection. It is a replica of the grotto at Lourdes, France where the Virgin Mary reputedly appeared to Saint Bernadette Soubirous in 1858. At the end of the main drive (and in a direct line that connects through 3 statues and the Gold Dome), is a simple, modern stone statue of Mary. Central Park did the Megastores Elizabeth allegedly appear in 1856 in Fatima Belgium.\n",
      "question: To whom did the Virgin Mary allegedly appear in 1858 in Lourdes France?\n",
      "answer: {'answer_start': [515], 'text': ['Saint Bernadette Soubirous']}\n"
     ]
    }
   ],
   "source": [
    "id = 5\n",
    "print(\"id: {}\\ntitle: {}\\ncontext: {}\\nquestion: {}\\nanswer: {}\".format(ids_adv_train[id],\n",
    "                                                                        titles_adv_train[id],\n",
    "                                                                        contexts_adv_train[id],\n",
    "                                                                        questions_adv_train[id],\n",
    "                                                                        answers_adv_train[id]))"
   ]
  },
  {
   "cell_type": "code",
   "execution_count": 12,
   "metadata": {},
   "outputs": [
    {
     "data": {
      "text/plain": [
       "['Architecturally, the school has a Catholic character.',\n",
       " \"Atop the Main Building's gold dome is a golden statue of the Virgin Mary.\",\n",
       " 'Immediately in front of the Main Building and facing it, is a copper statue of Christ with arms upraised with the legend \"Venite Ad Me Omnes\".',\n",
       " 'Next to the Main Building is the Basilica of the Sacred Heart.',\n",
       " 'Immediately behind the basilica is the Grotto, a Marian place of prayer and reflection.',\n",
       " 'It is a replica of the grotto at Lourdes, France where the Virgin Mary reputedly appeared to Saint Bernadette Soubirous in 1858.',\n",
       " 'At the end of the main drive (and in a direct line that connects through 3 statues and the Gold Dome), is a simple, modern stone statue of Mary.',\n",
       " 'Central Park did the Megastores Elizabeth allegedly appear in 1856 in Fatima Belgium.']"
      ]
     },
     "execution_count": 12,
     "metadata": {},
     "output_type": "execute_result"
    }
   ],
   "source": [
    "sent_tokenize(contexts_adv_train[5])"
   ]
  },
  {
   "cell_type": "code",
   "execution_count": 15,
   "metadata": {},
   "outputs": [
    {
     "data": {
      "text/plain": [
       "515"
      ]
     },
     "execution_count": 15,
     "metadata": {},
     "output_type": "execute_result"
    }
   ],
   "source": [
    "context = contexts_adv_train[5]\n",
    "context.index(answers_adv_train[5]['text'][0])"
   ]
  },
  {
   "cell_type": "code",
   "execution_count": 44,
   "metadata": {},
   "outputs": [],
   "source": [
    "contexts_sents = sent_tokenize(contexts_adv_train[5])\n",
    "adv_sentence_index = random.randint(0, len(contexts_sents)-1)       # randomly select a position to insert the adversarial sentence\n",
    "contexts_sents_new = []\n",
    "for i in range(0, adv_sentence_index):\n",
    "    contexts_sents_new.append(contexts_sents[i])\n",
    "contexts_sents_new.append(contexts_sents[-1])\n",
    "for i in range(adv_sentence_index, len(contexts_sents)-1):\n",
    "    contexts_sents_new.append(contexts_sents[i])\n",
    "contexts_new = ' '.join(contexts_sents_new)"
   ]
  },
  {
   "cell_type": "code",
   "execution_count": 45,
   "metadata": {},
   "outputs": [],
   "source": [
    "answer_new = {'answer_start': [], 'text': []}\n",
    "for answer_text in answers_adv_train[5]['text']:\n",
    "    answer_new['text'].append(answer_text)\n",
    "    answer_new['answer_start'].append(contexts_new.index(answer_text))"
   ]
  },
  {
   "cell_type": "code",
   "execution_count": 47,
   "metadata": {},
   "outputs": [
    {
     "data": {
      "text/plain": [
       "'Architecturally, the school has a Catholic character. Central Park did the Megastores Elizabeth allegedly appear in 1856 in Fatima Belgium. Atop the Main Building\\'s gold dome is a golden statue of the Virgin Mary. Immediately in front of the Main Building and facing it, is a copper statue of Christ with arms upraised with the legend \"Venite Ad Me Omnes\". Next to the Main Building is the Basilica of the Sacred Heart. Immediately behind the basilica is the Grotto, a Marian place of prayer and reflection. It is a replica of the grotto at Lourdes, France where the Virgin Mary reputedly appeared to Saint Bernadette Soubirous in 1858. At the end of the main drive (and in a direct line that connects through 3 statues and the Gold Dome), is a simple, modern stone statue of Mary.'"
      ]
     },
     "execution_count": 47,
     "metadata": {},
     "output_type": "execute_result"
    }
   ],
   "source": [
    "contexts_new"
   ]
  },
  {
   "cell_type": "code",
   "execution_count": 48,
   "metadata": {},
   "outputs": [
    {
     "data": {
      "text/plain": [
       "86"
      ]
     },
     "execution_count": 48,
     "metadata": {},
     "output_type": "execute_result"
    }
   ],
   "source": [
    "len('Central Park did the Megastores Elizabeth allegedly appear in 1856 in Fatima Belgium. ')"
   ]
  },
  {
   "cell_type": "code",
   "execution_count": 46,
   "metadata": {},
   "outputs": [
    {
     "data": {
      "text/plain": [
       "{'answer_start': [601], 'text': ['Saint Bernadette Soubirous']}"
      ]
     },
     "execution_count": 46,
     "metadata": {},
     "output_type": "execute_result"
    }
   ],
   "source": [
    "answer_new"
   ]
  },
  {
   "cell_type": "code",
   "execution_count": 42,
   "metadata": {},
   "outputs": [
    {
     "data": {
      "text/plain": [
       "['Architecturally, the school has a Catholic character.',\n",
       " \"Atop the Main Building's gold dome is a golden statue of the Virgin Mary.\",\n",
       " 'Immediately in front of the Main Building and facing it, is a copper statue of Christ with arms upraised with the legend \"Venite Ad Me Omnes\".',\n",
       " 'Next to the Main Building is the Basilica of the Sacred Heart.',\n",
       " 'Immediately behind the basilica is the Grotto, a Marian place of prayer and reflection.',\n",
       " 'It is a replica of the grotto at Lourdes, France where the Virgin Mary reputedly appeared to Saint Bernadette Soubirous in 1858.',\n",
       " 'At the end of the main drive (and in a direct line that connects through 3 statues and the Gold Dome), is a simple, modern stone statue of Mary.',\n",
       " 'Central Park did the Megastores Elizabeth allegedly appear in 1856 in Fatima Belgium.']"
      ]
     },
     "execution_count": 42,
     "metadata": {},
     "output_type": "execute_result"
    }
   ],
   "source": [
    "contexts_sents_new      # new index = 7"
   ]
  },
  {
   "cell_type": "code",
   "execution_count": 32,
   "metadata": {},
   "outputs": [
    {
     "data": {
      "text/plain": [
       "['Architecturally, the school has a Catholic character.',\n",
       " \"Atop the Main Building's gold dome is a golden statue of the Virgin Mary.\",\n",
       " 'Immediately in front of the Main Building and facing it, is a copper statue of Christ with arms upraised with the legend \"Venite Ad Me Omnes\".',\n",
       " 'Next to the Main Building is the Basilica of the Sacred Heart.',\n",
       " 'Central Park did the Megastores Elizabeth allegedly appear in 1856 in Fatima Belgium.',\n",
       " 'Immediately behind the basilica is the Grotto, a Marian place of prayer and reflection.',\n",
       " 'It is a replica of the grotto at Lourdes, France where the Virgin Mary reputedly appeared to Saint Bernadette Soubirous in 1858.',\n",
       " 'At the end of the main drive (and in a direct line that connects through 3 statues and the Gold Dome), is a simple, modern stone statue of Mary.']"
      ]
     },
     "execution_count": 32,
     "metadata": {},
     "output_type": "execute_result"
    }
   ],
   "source": [
    "contexts_sents_new      # new index = 4"
   ]
  },
  {
   "cell_type": "code",
   "execution_count": 37,
   "metadata": {},
   "outputs": [
    {
     "data": {
      "text/plain": [
       "['Central Park did the Megastores Elizabeth allegedly appear in 1856 in Fatima Belgium.',\n",
       " 'Architecturally, the school has a Catholic character.',\n",
       " \"Atop the Main Building's gold dome is a golden statue of the Virgin Mary.\",\n",
       " 'Immediately in front of the Main Building and facing it, is a copper statue of Christ with arms upraised with the legend \"Venite Ad Me Omnes\".',\n",
       " 'Next to the Main Building is the Basilica of the Sacred Heart.',\n",
       " 'Immediately behind the basilica is the Grotto, a Marian place of prayer and reflection.',\n",
       " 'It is a replica of the grotto at Lourdes, France where the Virgin Mary reputedly appeared to Saint Bernadette Soubirous in 1858.',\n",
       " 'At the end of the main drive (and in a direct line that connects through 3 statues and the Gold Dome), is a simple, modern stone statue of Mary.']"
      ]
     },
     "execution_count": 37,
     "metadata": {},
     "output_type": "execute_result"
    }
   ],
   "source": [
    "contexts_sents_new      # new index = 0"
   ]
  },
  {
   "cell_type": "code",
   "execution_count": 19,
   "metadata": {},
   "outputs": [
    {
     "data": {
      "text/plain": [
       "40"
      ]
     },
     "execution_count": 19,
     "metadata": {},
     "output_type": "execute_result"
    }
   ],
   "source": [
    "len('Another green space in Newcastle is the ')"
   ]
  },
  {
   "cell_type": "code",
   "execution_count": null,
   "metadata": {},
   "outputs": [],
   "source": []
  }
 ],
 "metadata": {
  "kernelspec": {
   "display_name": "Python 3",
   "language": "python",
   "name": "python3"
  },
  "language_info": {
   "codemirror_mode": {
    "name": "ipython",
    "version": 3
   },
   "file_extension": ".py",
   "mimetype": "text/x-python",
   "name": "python",
   "nbconvert_exporter": "python",
   "pygments_lexer": "ipython3",
   "version": "3.10.9"
  }
 },
 "nbformat": 4,
 "nbformat_minor": 2
}
